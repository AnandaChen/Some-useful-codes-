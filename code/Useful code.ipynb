{
 "cells": [
  {
   "cell_type": "markdown",
   "id": "d1b1a1e2",
   "metadata": {},
   "source": [
    "<font size=\"5\"> Distribution Plot"
   ]
  },
  {
   "cell_type": "code",
   "execution_count": null,
   "id": "5e83de22",
   "metadata": {},
   "outputs": [],
   "source": [
    "from numpy import random\n",
    "import numpy as np\n",
    "import matplotlib\n",
    "import matplotlib.pyplot as plt\n",
    "import math\n",
    "import pandas as pd\n",
    "import seaborn as sns\n",
    "from mpl_toolkits import mplot3d\n",
    "import numpy as np\n",
    "import matplotlib.pyplot as plt\n",
    "from numpy import random\n",
    "import numpy as np\n",
    "import time"
   ]
  },
  {
   "cell_type": "code",
   "execution_count": null,
   "id": "b414d689",
   "metadata": {},
   "outputs": [],
   "source": [
    "def save_information(ssm,tam1,tam2,infor_list):\n",
    "    p_sm=[]\n",
    "    p_tam1=[]\n",
    "    p_tam2=[]\n",
    "    N=len(ssm)\n",
    "    for i in range(N):\n",
    "        p_sm.append(ssm[i][1])\n",
    "        p_tam1.append(tam1[i][1])\n",
    "        p_tam2.append(tam2[i][1])\n",
    "    valuevvv=[0 for i in range(3*N)]\n",
    "    names=[0 for i in range(3*N)]\n",
    "    for i in range(N):\n",
    "        valuevvv[i]=p_sm[i] #if p_sm[i]>-0.4 and p_sm[i]<0.5 else 0\n",
    "        valuevvv[i+N]=p_tam1[i] #if p_tam1[i]>-0.4 and p_tam1[i]<0.5 else 0\n",
    "        valuevvv[i+2*N]=p_tam2[i] #if p_tam2[i]>-0.4 and p_tam2[i]<0.5 else 0\n",
    "        names[i]=r'Split-step'\n",
    "        names[i+N]=r'Taming $version 1$'\n",
    "        names[i+2*N]=r'Taming $version 2$'\n",
    "    for i in range(3*N):\n",
    "        infor_list[i][0]=valuevvv[i]\n",
    "        infor_list[i][1]=names[i]\n",
    "    return(0)\n",
    "def new_make_examples(value,newvalue,newnames,low,up):\n",
    "    for i  in range(len(value)):\n",
    "        if value[i][0]>=low and value[i][0]<=up:\n",
    "            newvalue.append(value[i][0])\n",
    "            newnames.append(value[i][1])\n",
    "    return(0)"
   ]
  },
  {
   "cell_type": "code",
   "execution_count": null,
   "id": "c7d7c152",
   "metadata": {},
   "outputs": [],
   "source": [
    "infor_list=[[0,0] for i in range(3*N)]\n",
    "save_information(particle_split_step_exact1,particle_taming_exact1,particle_taming_exact2,infor_list)\n",
    "newvalue=[]\n",
    "newnames=[]\n",
    "new_make_examples(infor_list,newvalue,newnames,-500,800)\n",
    "data = {'Method': newnames, 'V': newvalue, }\n",
    "df2 = pd.DataFrame(data)\n",
    "plot =sns.displot(df2, x=\"V\", hue=\"Method\",multiple=\"stack\")\n",
    "#plot.savefig(\"Test_N_2_100_result.png\", dpi=100)"
   ]
  },
  {
   "cell_type": "code",
   "execution_count": null,
   "id": "8fe7993b",
   "metadata": {},
   "outputs": [],
   "source": []
  },
  {
   "cell_type": "markdown",
   "id": "2a85f402",
   "metadata": {},
   "source": [
    "<font size=\"5\"> Error rate Plot"
   ]
  },
  {
   "cell_type": "code",
   "execution_count": null,
   "id": "72e806f3",
   "metadata": {},
   "outputs": [],
   "source": [
    "# make graphs.\n",
    "from matplotlib import pyplot\n",
    "timestep=[0.002,0.005,0.01,0.02,0.05]\n",
    "\n",
    "plt.rcParams[\"figure.figsize\"] = (7,7)\n",
    "\n",
    "\n",
    "plt.xlabel('Time step')  \n",
    "plt.ylabel('Strong Error') \n",
    "\n",
    "#plt.title('Different method compare to the exact solution')\n",
    "#plt.xlim(0,0.1) #plt.ylim(0.000001,1)\n",
    "\n",
    "plt.yscale('log')#plt.xscale('log') \n",
    "plt.xscale(\"log\")\n",
    "\n",
    "##\n",
    "timestep=np.array(timestep)\n",
    "m1, b1 = np.polyfit(np.log(timestep),np.log(time1_taming1),1)\n",
    "a,=plt.plot(timestep, (timestep**m1)*np.exp(b1),color='grey' )\n",
    "b,=plt.plot(timestep,time1_taming1,'P')\n",
    "m1, b1 = np.polyfit(np.log(timestep),np.log(time1_taming2),1)\n",
    "a1,=plt.plot(timestep, (timestep**m1)*np.exp(b1),color='grey' )\n",
    "b1,=plt.plot(timestep,time1_taming2,'.')\n",
    "\n",
    "m2, b2 = np.polyfit(np.log(timestep),np.log(time1_split_step1),1)\n",
    "c,=plt.plot(timestep, (timestep**m2)*np.exp(b2),color='orange'  )\n",
    "d,=plt.plot(timestep,time1_split_step1,'s')\n",
    "\n",
    "m2, b2 = np.polyfit(np.log(timestep),np.log(time1_split_step2),1)\n",
    "j,=plt.plot(timestep, (timestep**m2)*np.exp(b2),color='pink' )\n",
    "k,=plt.plot(timestep,time1_split_step2,'D')\n",
    "\n",
    "m3, b3 = np.polyfit(np.log(timestep),np.log(time1_adaptive),1)\n",
    "e,=plt.plot(timestep, (timestep**m3)*np.exp(b3),color='black' )\n",
    "f,=plt.plot(timestep,time1_adaptive,'o')\n",
    "\n",
    "\n",
    "\n",
    "#g,=plt.plot(timestep, (timestep**2),'g-.',label='Order 1',color='black')\n",
    "#z,=plt.plot(timestep, (timestep**1),'g-.',label='Order 1',color='red')\n",
    "#z2,=plt.plot(timestep, (timestep**0.5),'g-.',label='Order 1',color='green')\n",
    "#q,=plt.plot(timestep, (timestep**1.5),'g-.',label='Order 1.5',color='green')\n",
    "##\n",
    "plt.legend([(a,b),(a1,b1),(c,d),(j,k),(e,f)],[r'Taming $\\alpha=0.5$',r'Taming $\\alpha=1$' ,r'Split-step $\\theta$=0.6',r'Split-step $\\theta$=1','Adaptive']) \n",
    "plt.savefig('Simulation20210427timeconsume_poly.png', dpi=100)"
   ]
  },
  {
   "cell_type": "code",
   "execution_count": null,
   "id": "01105851",
   "metadata": {},
   "outputs": [],
   "source": []
  },
  {
   "cell_type": "markdown",
   "id": "ff9faf35",
   "metadata": {},
   "source": [
    "<font size=\"5\"> Path Plot"
   ]
  },
  {
   "cell_type": "code",
   "execution_count": null,
   "id": "8c595d0a",
   "metadata": {},
   "outputs": [],
   "source": [
    "### Plotting part\n",
    "\n",
    "h=0.05\n",
    "N=100\n",
    "axiss=[]\n",
    "for i in range(0,41):\n",
    "    axiss.append(i*h)\n",
    "plt.rcParams[\"figure.figsize\"] = (7,5)\n",
    "plt.xlabel('Time')  \n",
    "plt.ylabel('Value of each partical') \n",
    "plt.title('Paths of Split-step method')\n",
    "#plt.title('Paths of Euler scheme with partical corruption')\n",
    "plt.xlim(0, 2)\n",
    "plt.ylim(-30.0, 30.0)\n",
    "#for i in range(0,N):     plt.plot( axiss,path[i],color='black')\n",
    "\n",
    "    \n",
    "for i in range(0,N): \n",
    "    cc='black'\n",
    "#     for j in range(0,20):\n",
    "#         if path[i][j]<-8: cc='red'\n",
    "    plt.plot( axiss,path_ssm[i],color=cc)\n",
    "    \n",
    "    \n",
    "plt.savefig('FIG-PC-SSM-0816.png',dpi=600)"
   ]
  },
  {
   "cell_type": "code",
   "execution_count": null,
   "id": "a41af52c",
   "metadata": {},
   "outputs": [],
   "source": []
  },
  {
   "cell_type": "markdown",
   "id": "c9cba2f5",
   "metadata": {},
   "source": [
    "<font size=\"5\"> Smooth Plot"
   ]
  },
  {
   "cell_type": "code",
   "execution_count": null,
   "id": "0e22ad9d",
   "metadata": {},
   "outputs": [],
   "source": [
    "import matplotlib.pyplot as plt\n",
    "fig, ax = plt.subplots()\n",
    "fig.set_size_inches(10, 6)\n",
    "#ax.plot(nu10, m_1alpha, label='alpha=1')\n",
    "ax.plot(nu10, m_5alpha, label='alpha=5')\n",
    "ax.plot(nu10, m_8alpha, label='alpha=8')\n",
    "ax.plot(nu10, m_11alpha, label='alpha=11')\n",
    "ax.plot(nu10, m_14alpha, label='alpha=14')\n",
    "ax.plot(nu10, m_17alpha, label='alpha=17')\n",
    "ax.plot(nu10, mnu1, color='black',label='Real ',linewidth=3)\n",
    "#ax.plot(rangeN, err2, label='Pred AB4, Corr AB3')\n",
    "#ax.plot(rangeN, err3, label='Pred AB4, Corr AB3, RK8')\n",
    "#ax.plot(rangeN, rangeNpower, label='$e = N^{-11}$')\n",
    "#ax.plot(rangeN, rangeNpower2, label='e = N^{-9}')\n",
    "\n",
    "#ax.set_xscale('log')\n",
    "#ax.set_yscale('log')\n",
    "ax.set_xlabel('x')  # Add an x-label to the axes.\n",
    "ax.set_ylabel('m(x)')\n",
    "ax.set_title(\"Spectrum without Noise\")\n",
    "ax.legend(loc='upper right')\n",
    "plt.legend()\n",
    "plt.show()\n",
    "fig.savefig('test1.png', dpi=100)"
   ]
  },
  {
   "cell_type": "code",
   "execution_count": null,
   "id": "48b666e5",
   "metadata": {},
   "outputs": [],
   "source": []
  },
  {
   "cell_type": "code",
   "execution_count": null,
   "id": "10a6e96c",
   "metadata": {},
   "outputs": [],
   "source": []
  },
  {
   "cell_type": "markdown",
   "id": "c9417d31",
   "metadata": {},
   "source": [
    "<font size=\"5\"> Excel operation"
   ]
  },
  {
   "cell_type": "code",
   "execution_count": 1,
   "id": "c9f099e1",
   "metadata": {},
   "outputs": [],
   "source": [
    "import xlwt as xlwt\n",
    "import xlrd\n",
    "workbook = xlwt.Workbook(encoding = 'utf-16')\n",
    "worksheet = workbook.add_sheet('My Worksheet')\n",
    "#data= xlrd.open_workbook(\"x.xlsx\")\n",
    "#table = data.sheets()[0]\n",
    "########################################\n",
    "\n",
    "def savefile_single(x,count):\n",
    "    for i in range(len(x)):\n",
    "        worksheet.write(i,count,x[i])\n",
    "    count+=1\n",
    "    return(count)\n",
    "\n",
    "def savefile_double(x,count):\n",
    "    for i in range(len(x)):\n",
    "        worksheet.write(i,count,x[i][0])\n",
    "    count+=1\n",
    "    for i in range(len(x)):\n",
    "        worksheet.write(i,count,x[i][1])\n",
    "    count+=1\n",
    "    return(count)\n",
    "\n",
    "def filetolist(x,count):\n",
    "    data= xlrd.open_workbook(\"Simulation20210419_1.xls\")\n",
    "    table = data.sheets()[0]\n",
    "    for i in range(len(x)):\n",
    "        x[i][0]=table.cell_value(i,count)\n",
    "        x[i][1]=table.cell_value(i,count+1)\n",
    "    return(count+2)\n",
    "\n",
    "count=0\n",
    "count=savefile_double(particle_taming_exact,count)"
   ]
  },
  {
   "cell_type": "code",
   "execution_count": null,
   "id": "af95e85e",
   "metadata": {},
   "outputs": [],
   "source": []
  },
  {
   "cell_type": "code",
   "execution_count": null,
   "id": "6daf0b6a",
   "metadata": {},
   "outputs": [],
   "source": []
  },
  {
   "cell_type": "code",
   "execution_count": null,
   "id": "d23ff4d9",
   "metadata": {},
   "outputs": [],
   "source": []
  },
  {
   "cell_type": "code",
   "execution_count": null,
   "id": "d9184ada",
   "metadata": {},
   "outputs": [],
   "source": []
  },
  {
   "cell_type": "code",
   "execution_count": null,
   "id": "7a924182",
   "metadata": {},
   "outputs": [],
   "source": []
  },
  {
   "cell_type": "code",
   "execution_count": null,
   "id": "862fee9a",
   "metadata": {},
   "outputs": [],
   "source": []
  },
  {
   "cell_type": "code",
   "execution_count": null,
   "id": "983233cc",
   "metadata": {},
   "outputs": [],
   "source": []
  },
  {
   "cell_type": "code",
   "execution_count": null,
   "id": "a526697f",
   "metadata": {},
   "outputs": [],
   "source": []
  },
  {
   "cell_type": "code",
   "execution_count": null,
   "id": "0864e089",
   "metadata": {},
   "outputs": [],
   "source": []
  },
  {
   "cell_type": "code",
   "execution_count": null,
   "id": "6a6771b7",
   "metadata": {},
   "outputs": [],
   "source": []
  },
  {
   "cell_type": "code",
   "execution_count": null,
   "id": "0da430f9",
   "metadata": {},
   "outputs": [],
   "source": []
  },
  {
   "cell_type": "code",
   "execution_count": null,
   "id": "3991b2b2",
   "metadata": {},
   "outputs": [],
   "source": []
  },
  {
   "cell_type": "code",
   "execution_count": null,
   "id": "02fba8da",
   "metadata": {},
   "outputs": [],
   "source": []
  },
  {
   "cell_type": "code",
   "execution_count": null,
   "id": "bae15fd5",
   "metadata": {},
   "outputs": [],
   "source": []
  },
  {
   "cell_type": "code",
   "execution_count": null,
   "id": "189765eb",
   "metadata": {},
   "outputs": [],
   "source": []
  },
  {
   "cell_type": "code",
   "execution_count": null,
   "id": "fddb0ce8",
   "metadata": {},
   "outputs": [],
   "source": []
  },
  {
   "cell_type": "code",
   "execution_count": null,
   "id": "a705e2c0",
   "metadata": {},
   "outputs": [],
   "source": []
  },
  {
   "cell_type": "code",
   "execution_count": null,
   "id": "29eca5a6",
   "metadata": {},
   "outputs": [],
   "source": []
  },
  {
   "cell_type": "code",
   "execution_count": null,
   "id": "b336d7a4",
   "metadata": {},
   "outputs": [],
   "source": []
  },
  {
   "cell_type": "code",
   "execution_count": null,
   "id": "1b721d43",
   "metadata": {},
   "outputs": [],
   "source": []
  },
  {
   "cell_type": "code",
   "execution_count": null,
   "id": "258061db",
   "metadata": {},
   "outputs": [],
   "source": []
  },
  {
   "cell_type": "code",
   "execution_count": null,
   "id": "9ad3b2c4",
   "metadata": {},
   "outputs": [],
   "source": []
  }
 ],
 "metadata": {
  "kernelspec": {
   "display_name": "Python 3",
   "language": "python",
   "name": "python3"
  },
  "language_info": {
   "codemirror_mode": {
    "name": "ipython",
    "version": 3
   },
   "file_extension": ".py",
   "mimetype": "text/x-python",
   "name": "python",
   "nbconvert_exporter": "python",
   "pygments_lexer": "ipython3",
   "version": "3.8.5"
  },
  "varInspector": {
   "cols": {
    "lenName": 16,
    "lenType": 16,
    "lenVar": 40
   },
   "kernels_config": {
    "python": {
     "delete_cmd_postfix": "",
     "delete_cmd_prefix": "del ",
     "library": "var_list.py",
     "varRefreshCmd": "print(var_dic_list())"
    },
    "r": {
     "delete_cmd_postfix": ") ",
     "delete_cmd_prefix": "rm(",
     "library": "var_list.r",
     "varRefreshCmd": "cat(var_dic_list()) "
    }
   },
   "types_to_exclude": [
    "module",
    "function",
    "builtin_function_or_method",
    "instance",
    "_Feature"
   ],
   "window_display": false
  }
 },
 "nbformat": 4,
 "nbformat_minor": 5
}
